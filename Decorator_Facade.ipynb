{
 "cells": [
  {
   "cell_type": "code",
   "execution_count": 1,
   "id": "1243caf6",
   "metadata": {},
   "outputs": [],
   "source": [
    "# Decorator and Facade Design Patterns #"
   ]
  },
  {
   "cell_type": "code",
   "execution_count": 2,
   "id": "31ec7947",
   "metadata": {},
   "outputs": [
    {
     "name": "stdout",
     "output_type": "stream",
     "text": [
      "Function 'randomatrix(4, 5)' is executed in 0.000000s\n",
      "\n",
      "4x5 Matrix:\n",
      "3  7  3  4  6  \n",
      "1  8  3  5  0  \n",
      "6  1  9  2  1  \n",
      "7  5  9  1  3  \n"
     ]
    }
   ],
   "source": [
    "# Using Decorators to Modify Functions: Automatic Time Print #\n",
    "\n",
    "from time import time\n",
    "from random import randint as rand\n",
    "\n",
    "\n",
    "class Decorators:\n",
    "    def timer_func(func):\n",
    "        def wrap_func(*args, **kwargs):\n",
    "            t1 = time()\n",
    "            result = func(*args, **kwargs)\n",
    "            t2 = time()\n",
    "            print(f\"Function '{func.__name__}{args}' is executed in {(t2-t1):.6f}s\\n\")\n",
    "            return result\n",
    "        return wrap_func\n",
    "\n",
    "\n",
    "@(Decorators.timer_func)                    # Activating the timer_func Decorator from the Decorators Class\n",
    "def randomatrix(row: int, col: int):\n",
    "    ls = []\n",
    "    temp = []\n",
    "    for i in range(row):\n",
    "        for j in range(col):\n",
    "            temp.append(rand(0, 9))\n",
    "        ls.append(temp.copy())\n",
    "        temp.clear()\n",
    "    return ls\n",
    "\n",
    "\n",
    "m=4; n=5\n",
    "matrix = randomatrix(m, n)            # Calling the randomatrix() Function Calls timer_func() Automatically\n",
    "\n",
    "print(f\"{m}x{n} Matrix:\")\n",
    "for row in matrix:\n",
    "    for col in row:\n",
    "        print(col, \" \", end=\"\")\n",
    "    print()"
   ]
  },
  {
   "cell_type": "code",
   "execution_count": 3,
   "id": "8da9d1f2",
   "metadata": {},
   "outputs": [
    {
     "name": "stdout",
     "output_type": "stream",
     "text": [
      "factoriel(700) = 2422040124750272179867875093812352218590983385729207299450679664929938160215647420444519051666484819249321456671497049842327525093874817343838393757631459228450828499972271274140160311057830558463636337124079332447820739281101037112665387537180790257577919273108262916904750405235055060084012219492892375635136296622020023178109619818046179906897450420548912610870589088056503913584562211037693288782960900195074130999799035970711436279339094292032866260496375825461427727555710003007752906141470639574390024988514914264449865006458873226951941899545970333910351588559232940829569276986080222200289966128343931630028789203382654749603473516314765262772257171154686716862814184728741187147936349501653197457455660413134506049122044947052623384682088864790673309569292384215611788014274954905914148362303226200246816441301934846080254998647325270606104512088058712293349862185399243309054299576381718806247238195232604642614329894070636163753672091232751612378348273840757873567717532879242518337119540602943609411629349009566043720836737401090882392975031224612531245642687296717053747734506443314924558119560479901478736209556925161517737110399754730551854066328420014728657896286936523787080206476327157136441318773432751007263108056958251693811280957243202460157111778617472683761623869704457588005158037495665069625778930898095725794710701639238231528115579619120287378689238934335198508665933917257143975277707590597511989345068701735940169672561864713107115016747368992690116082633762172346688969840862517264384000000000000000000000000000000000000000000000000000000000000000000000000000000000000000000000000000000000000000000000000000000000000000000000000000000000000000000000000000000\n",
      "\n",
      "factoriel(700) is calculated in 0.002101s\n"
     ]
    }
   ],
   "source": [
    "# Using Decorators to Modify Functions: Optional Time Print #\n",
    "\n",
    "from time import time\n",
    "\n",
    "\n",
    "class Decorators:\n",
    "    def timer_func(func):\n",
    "        def wrap_func(*args, **kwargs):\n",
    "            t1 = time()\n",
    "            result = func(*args, **kwargs)\n",
    "            t2 = time()\n",
    "            #print(f\"Function '{func.__name__}{args}' executed in {(t2-t1):.6f}s\\n\")  # Cancel Automatic Time Print\n",
    "            return [result, f\"{(t2-t1):.6f}\"]  # This Makes Any Function Return A List : [return value, time spent]\n",
    "        return wrap_func\n",
    "\n",
    "\n",
    "@(Decorators.timer_func)                            # Activating the timer_func Decorator from the Decorators Class\n",
    "def factoriel(num: int):\n",
    "    def factorec(num: int):\n",
    "        if(num > 0):\n",
    "            return num * factorec(num-1) \n",
    "        else: return 1\n",
    "    return factorec(num)\n",
    "\n",
    "x = 700\n",
    "result = factoriel(x)             # The factoriel() Function is Forced to Return a List: [result value, time spent]\n",
    "print(f\"factoriel({x}) = {result[0]}\")                                     # Result of the Factoriel Function\n",
    "print(f\"\\nfactoriel({x}) is calculated in {result[1]}s\")                   # Execution Time is Extracted Optionally"
   ]
  },
  {
   "cell_type": "code",
   "execution_count": 4,
   "id": "d5f34431",
   "metadata": {},
   "outputs": [
    {
     "name": "stdout",
     "output_type": "stream",
     "text": [
      "Starting the Process!\n",
      "1.Loading Raw Data...\n",
      "2.Processing Raw Data...\n",
      "3.Saving Processed Data...\n",
      "Process Completed.\n",
      "\n",
      "Finished in: 0.268984s\n"
     ]
    }
   ],
   "source": [
    "# Using Decorators to Modify Facade Methods: Optional Time Print #\n",
    "\n",
    "from time import time\n",
    "\n",
    "\n",
    "class Decorators:\n",
    "    def timer_func(func):\n",
    "        def wrap_func(*args, **kwargs):\n",
    "            t1 = time()\n",
    "            result = func(*args, **kwargs)\n",
    "            t2 = time()\n",
    "            #print(f\"Function '{func.__name__}{args}' executed in {(t2-t1):.6f}s\\n\")  # Cancel Automatic Time Print\n",
    "            return [result, f\"{(t2-t1):.6f}\"]  # This Makes Any Function Return A List : [return value, time spent]\n",
    "        return wrap_func\n",
    "\n",
    "    \n",
    "class Computer():\n",
    "    class Loading:\n",
    "        def load(self):\n",
    "            print(\"1.Loading Raw Data...\")\n",
    "            for i in range(100000):\n",
    "                for j in range(100):\n",
    "                    pass\n",
    "\n",
    "\n",
    "    class Processing:\n",
    "        def process(self):\n",
    "            print(\"2.Processing Raw Data...\")\n",
    "            for i in range(40000):\n",
    "                for j in range(100):\n",
    "                    pass\n",
    "\n",
    "\n",
    "    class Saving:\n",
    "        def save(self):\n",
    "            print(\"3.Saving Processed Data...\")\n",
    "            for i in range(30000):\n",
    "                for j in range(100):\n",
    "                    pass\n",
    "    \n",
    "    \n",
    "class Process():\n",
    "    ##### Facade #####\n",
    "    def __init__(self):\n",
    "        self.computer = Computer()\n",
    "        self.loading = self.computer.Loading()\n",
    "        self.processing = self.computer.Processing()\n",
    "        self.saving = self.computer.Saving()\n",
    "        \n",
    "    @(Decorators.timer_func)                  # Activating the timer_func Decorator from the Decorators Class\n",
    "    def startProcess(self):\n",
    "        print(\"Starting the Process!\")\n",
    "        self.loading.load()\n",
    "        self.processing.process()\n",
    "        self.saving.save()\n",
    "        value = \"Process Completed.\"         # Returning A Value\n",
    "        return value\n",
    "\n",
    "\n",
    "if __name__ == \"__main__\":\n",
    "    process = Process()                      # The Class that Contains the Facade Method\n",
    "    result = process.startProcess()          # The 1st Element is either A Returned Value or None\n",
    "    print(result[0])                         # The 1st Element is the Returned Value If It is Provided\n",
    "    print(f\"\\nFinished in: {result[1]}s\")    # The 2nd Element is the Time Spent, Provided by the Decorator"
   ]
  },
  {
   "cell_type": "code",
   "execution_count": null,
   "id": "8a752d5a",
   "metadata": {},
   "outputs": [],
   "source": []
  }
 ],
 "metadata": {
  "kernelspec": {
   "display_name": "Python 3 (ipykernel)",
   "language": "python",
   "name": "python3"
  },
  "language_info": {
   "codemirror_mode": {
    "name": "ipython",
    "version": 3
   },
   "file_extension": ".py",
   "mimetype": "text/x-python",
   "name": "python",
   "nbconvert_exporter": "python",
   "pygments_lexer": "ipython3",
   "version": "3.10.13"
  }
 },
 "nbformat": 4,
 "nbformat_minor": 5
}
